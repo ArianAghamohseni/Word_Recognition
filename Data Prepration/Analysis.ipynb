{
 "cells": [
  {
   "cell_type": "markdown",
   "id": "fe0ddde8-851d-4e36-8d35-b5be580e9d31",
   "metadata": {},
   "source": [
    "## Import packges"
   ]
  },
  {
   "cell_type": "code",
   "execution_count": 1,
   "id": "68697e7d-962f-430e-9be4-119a173ba1b6",
   "metadata": {
    "tags": []
   },
   "outputs": [],
   "source": [
    "import sys\n",
    "import os\n",
    "sys.path.append(os.path.dirname(os.path.abspath(os.getcwd())))\n",
    "\n",
    "import numpy as np\n",
    "import pandas as pd\n",
    "import random\n",
    "import warnings\n",
    "import matplotlib.pyplot as plt\n",
    "import seaborn as sns\n",
    "import pingouin as pg\n",
    "import statsmodels.api as sm\n",
    "\n",
    "from statsmodels.graphics.gofplots import qqplot_2samples\n",
    "from utils.utils import get_rt_quantiles, remove_outliers"
   ]
  },
  {
   "cell_type": "code",
   "execution_count": 2,
   "id": "b6f1fb7d-2be4-4ae9-a94c-3d0cfc16ac42",
   "metadata": {},
   "outputs": [
    {
     "data": {
      "text/plain": [
       "<Figure size 800x600 with 0 Axes>"
      ]
     },
     "metadata": {},
     "output_type": "display_data"
    }
   ],
   "source": [
    "sns.set_style(\"whitegrid\");\n",
    "plt.figure(figsize=(8, 6), dpi=100);"
   ]
  },
  {
   "cell_type": "code",
   "execution_count": 3,
   "id": "13811ce7-f094-4af6-b532-69ad1f237ace",
   "metadata": {},
   "outputs": [],
   "source": [
    "root = \"../\"\n",
    "behavioural_data_root = root +  \"Datasets/behavioral_data/raw_data/\"\n",
    "data_output_path = root + \"Datasets/behavioral_data/selected_data/LDT_data.csv\"\n",
    "qqplots_dir = \"Results/Plots/qqplots/\""
   ]
  },
  {
   "cell_type": "code",
   "execution_count": 4,
   "id": "d1dd86ad-f470-47e5-ae29-fd075ec7061b",
   "metadata": {
    "scrolled": true,
    "tags": []
   },
   "outputs": [],
   "source": [
    "dataframes = []\n",
    "counter = 1\n",
    "for count, filename in enumerate(os.listdir(behavioural_data_root)):\n",
    "    df = pd.read_csv(behavioural_data_root + filename, names=[\"trial\", \"string_id\", \"string_type\", \"accuracy\", \"rt\", \"string\"])\n",
    "    if df.iloc[-2, 4] != \"English\":\n",
    "        continue\n",
    "    df = df.dropna().drop(\"string_id\", axis=1).drop([0, 1])\n",
    "    df = df.iloc[:-2, :]\n",
    "    ind = df.loc[df[\"trial\"] == \"Univ\"].index[0]\n",
    "    df = df.drop([ind, ind+1], axis=0)\n",
    "    # Dropping rows with wrong accuracies\n",
    "    df = df.loc[(df[\"accuracy\"] == \"0\") | (df[\"accuracy\"] == \"1\")]\n",
    "    # Converting columns type to suitable data types\n",
    "    convert_dict = {\"string_type\": \"int16\",\n",
    "                    \"accuracy\": \"int16\",\n",
    "                    \"rt\": float\n",
    "                   }\n",
    "\n",
    "    df = df.astype(convert_dict)\n",
    "    # Convert RTs to seconds\n",
    "    df[\"rt\"] = df[\"rt\"].apply(lambda x: x/1000) \n",
    "    # Removing Outliers\n",
    "    df = remove_outliers(df, 3, .2, 2.5)\n",
    "    # Extracting response of participant from his/her accuracy\n",
    "    df[\"response\"] = np.logical_not(np.logical_xor(df[\"string_type\"], df[\"accuracy\"])).astype(\"int\")\n",
    "    df = df.reset_index(drop=True)\n",
    "    # Particpant number\n",
    "    df[\"participant\"] = counter\n",
    "    df[\"quantile\"]=\"\"\n",
    "    df[\"minRT\"] = df[\"rt\"].min()\n",
    "    dataframes.append(df)\n",
    "    counter += 1\n",
    "behavioural_df = pd.concat(dataframes)"
   ]
  },
  {
   "cell_type": "code",
   "execution_count": 33,
   "id": "a956cba5-489a-436e-88dd-a8d0b9e27da2",
   "metadata": {
    "tags": []
   },
   "outputs": [
    {
     "data": {
      "text/html": [
       "<div>\n",
       "<style scoped>\n",
       "    .dataframe tbody tr th:only-of-type {\n",
       "        vertical-align: middle;\n",
       "    }\n",
       "\n",
       "    .dataframe tbody tr th {\n",
       "        vertical-align: top;\n",
       "    }\n",
       "\n",
       "    .dataframe thead th {\n",
       "        text-align: right;\n",
       "    }\n",
       "</style>\n",
       "<table border=\"1\" class=\"dataframe\">\n",
       "  <thead>\n",
       "    <tr style=\"text-align: right;\">\n",
       "      <th></th>\n",
       "      <th>trial</th>\n",
       "      <th>string_type</th>\n",
       "      <th>accuracy</th>\n",
       "      <th>rt</th>\n",
       "      <th>string</th>\n",
       "      <th>response</th>\n",
       "      <th>participant</th>\n",
       "      <th>quantile</th>\n",
       "      <th>minRT</th>\n",
       "    </tr>\n",
       "  </thead>\n",
       "  <tbody>\n",
       "    <tr>\n",
       "      <th>0</th>\n",
       "      <td>1</td>\n",
       "      <td>0</td>\n",
       "      <td>0</td>\n",
       "      <td>0.548</td>\n",
       "      <td>pracker</td>\n",
       "      <td>1</td>\n",
       "      <td>1</td>\n",
       "      <td></td>\n",
       "      <td>0.378</td>\n",
       "    </tr>\n",
       "    <tr>\n",
       "      <th>1</th>\n",
       "      <td>2</td>\n",
       "      <td>1</td>\n",
       "      <td>1</td>\n",
       "      <td>0.646</td>\n",
       "      <td>nearside</td>\n",
       "      <td>1</td>\n",
       "      <td>1</td>\n",
       "      <td></td>\n",
       "      <td>0.378</td>\n",
       "    </tr>\n",
       "    <tr>\n",
       "      <th>2</th>\n",
       "      <td>3</td>\n",
       "      <td>1</td>\n",
       "      <td>1</td>\n",
       "      <td>0.511</td>\n",
       "      <td>jets</td>\n",
       "      <td>1</td>\n",
       "      <td>1</td>\n",
       "      <td></td>\n",
       "      <td>0.378</td>\n",
       "    </tr>\n",
       "    <tr>\n",
       "      <th>3</th>\n",
       "      <td>4</td>\n",
       "      <td>0</td>\n",
       "      <td>1</td>\n",
       "      <td>0.815</td>\n",
       "      <td>vates</td>\n",
       "      <td>0</td>\n",
       "      <td>1</td>\n",
       "      <td></td>\n",
       "      <td>0.378</td>\n",
       "    </tr>\n",
       "    <tr>\n",
       "      <th>4</th>\n",
       "      <td>5</td>\n",
       "      <td>1</td>\n",
       "      <td>1</td>\n",
       "      <td>0.680</td>\n",
       "      <td>onward</td>\n",
       "      <td>1</td>\n",
       "      <td>1</td>\n",
       "      <td></td>\n",
       "      <td>0.378</td>\n",
       "    </tr>\n",
       "    <tr>\n",
       "      <th>...</th>\n",
       "      <td>...</td>\n",
       "      <td>...</td>\n",
       "      <td>...</td>\n",
       "      <td>...</td>\n",
       "      <td>...</td>\n",
       "      <td>...</td>\n",
       "      <td>...</td>\n",
       "      <td>...</td>\n",
       "      <td>...</td>\n",
       "    </tr>\n",
       "    <tr>\n",
       "      <th>3263</th>\n",
       "      <td>3370</td>\n",
       "      <td>1</td>\n",
       "      <td>1</td>\n",
       "      <td>0.589</td>\n",
       "      <td>welt</td>\n",
       "      <td>1</td>\n",
       "      <td>806</td>\n",
       "      <td></td>\n",
       "      <td>0.423</td>\n",
       "    </tr>\n",
       "    <tr>\n",
       "      <th>3264</th>\n",
       "      <td>3371</td>\n",
       "      <td>0</td>\n",
       "      <td>1</td>\n",
       "      <td>0.708</td>\n",
       "      <td>clameworthy</td>\n",
       "      <td>0</td>\n",
       "      <td>806</td>\n",
       "      <td></td>\n",
       "      <td>0.423</td>\n",
       "    </tr>\n",
       "    <tr>\n",
       "      <th>3265</th>\n",
       "      <td>3372</td>\n",
       "      <td>0</td>\n",
       "      <td>1</td>\n",
       "      <td>0.817</td>\n",
       "      <td>esperience</td>\n",
       "      <td>0</td>\n",
       "      <td>806</td>\n",
       "      <td></td>\n",
       "      <td>0.423</td>\n",
       "    </tr>\n",
       "    <tr>\n",
       "      <th>3266</th>\n",
       "      <td>3373</td>\n",
       "      <td>0</td>\n",
       "      <td>1</td>\n",
       "      <td>0.736</td>\n",
       "      <td>Ebe</td>\n",
       "      <td>0</td>\n",
       "      <td>806</td>\n",
       "      <td></td>\n",
       "      <td>0.423</td>\n",
       "    </tr>\n",
       "    <tr>\n",
       "      <th>3267</th>\n",
       "      <td>3374</td>\n",
       "      <td>1</td>\n",
       "      <td>0</td>\n",
       "      <td>1.351</td>\n",
       "      <td>grandiloquent</td>\n",
       "      <td>0</td>\n",
       "      <td>806</td>\n",
       "      <td></td>\n",
       "      <td>0.423</td>\n",
       "    </tr>\n",
       "  </tbody>\n",
       "</table>\n",
       "<p>2622464 rows × 9 columns</p>\n",
       "</div>"
      ],
      "text/plain": [
       "     trial  string_type  accuracy     rt         string  response  \\\n",
       "0        1            0         0  0.548        pracker         1   \n",
       "1        2            1         1  0.646       nearside         1   \n",
       "2        3            1         1  0.511           jets         1   \n",
       "3        4            0         1  0.815          vates         0   \n",
       "4        5            1         1  0.680         onward         1   \n",
       "...    ...          ...       ...    ...            ...       ...   \n",
       "3263  3370            1         1  0.589           welt         1   \n",
       "3264  3371            0         1  0.708    clameworthy         0   \n",
       "3265  3372            0         1  0.817     esperience         0   \n",
       "3266  3373            0         1  0.736            Ebe         0   \n",
       "3267  3374            1         0  1.351  grandiloquent         0   \n",
       "\n",
       "      participant quantile  minRT  \n",
       "0               1           0.378  \n",
       "1               1           0.378  \n",
       "2               1           0.378  \n",
       "3               1           0.378  \n",
       "4               1           0.378  \n",
       "...           ...      ...    ...  \n",
       "3263          806           0.423  \n",
       "3264          806           0.423  \n",
       "3265          806           0.423  \n",
       "3266          806           0.423  \n",
       "3267          806           0.423  \n",
       "\n",
       "[2622464 rows x 9 columns]"
      ]
     },
     "execution_count": 33,
     "metadata": {},
     "output_type": "execute_result"
    }
   ],
   "source": [
    "behavioural_df"
   ]
  },
  {
   "cell_type": "code",
   "execution_count": 35,
   "id": "23b3d4a8-e613-41e6-9ce4-e1a1ea6e83d7",
   "metadata": {
    "tags": []
   },
   "outputs": [],
   "source": [
    "selected_particpants_id = pd.read_csv(data_output_path, header=None,\n",
    "                                    names=[\"accuracy\", \"rt\", \"string\", \"response\",\n",
    "                                          \"participant\", \"minRT\", \"participant_id\"])['participant'].to_numpy()\n",
    "selected_participants = behavioural_df.loc[behavioural_df['participant'].isin(selected_particpants_id)]"
   ]
  },
  {
   "cell_type": "code",
   "execution_count": 36,
   "id": "27c9fd3c-eae4-459e-8ab1-78423f6f0a0e",
   "metadata": {
    "tags": []
   },
   "outputs": [],
   "source": [
    "selected_participants = selected_participants.groupby([\"participant\"]).agg({\"rt\": [\"mean\"], \"accuracy\": [\"mean\"],\n",
    "                                                                \"response\":[\"mean\"]}).reset_index()"
   ]
  },
  {
   "cell_type": "code",
   "execution_count": 38,
   "id": "f26eb3b7-21f6-4b9a-a6c1-7ca7118c9966",
   "metadata": {
    "tags": []
   },
   "outputs": [],
   "source": [
    "all_participants = behavioural_df.groupby([\"participant\"]).agg({\"rt\": [\"mean\"], \"accuracy\": [\"mean\"],\n",
    "                                                                \"response\":[\"mean\"]}).reset_index()"
   ]
  },
  {
   "cell_type": "code",
   "execution_count": 39,
   "id": "c5ccebed-7a35-445a-ab0b-f7ae71c789e4",
   "metadata": {
    "tags": []
   },
   "outputs": [
    {
     "data": {
      "text/html": [
       "<div>\n",
       "<style scoped>\n",
       "    .dataframe tbody tr th:only-of-type {\n",
       "        vertical-align: middle;\n",
       "    }\n",
       "\n",
       "    .dataframe tbody tr th {\n",
       "        vertical-align: top;\n",
       "    }\n",
       "\n",
       "    .dataframe thead th {\n",
       "        text-align: right;\n",
       "    }\n",
       "</style>\n",
       "<table border=\"1\" class=\"dataframe\">\n",
       "  <thead>\n",
       "    <tr style=\"text-align: right;\">\n",
       "      <th></th>\n",
       "      <th>T</th>\n",
       "      <th>dof</th>\n",
       "      <th>alternative</th>\n",
       "      <th>p-val</th>\n",
       "      <th>CI95%</th>\n",
       "      <th>cohen-d</th>\n",
       "      <th>BF10</th>\n",
       "      <th>power</th>\n",
       "    </tr>\n",
       "  </thead>\n",
       "  <tbody>\n",
       "    <tr>\n",
       "      <th>T-test</th>\n",
       "      <td>-0.385318</td>\n",
       "      <td>99</td>\n",
       "      <td>two-sided</td>\n",
       "      <td>0.700828</td>\n",
       "      <td>[0.77, 0.84]</td>\n",
       "      <td>0.038532</td>\n",
       "      <td>0.119</td>\n",
       "      <td>0.066842</td>\n",
       "    </tr>\n",
       "  </tbody>\n",
       "</table>\n",
       "</div>"
      ],
      "text/plain": [
       "               T  dof alternative     p-val         CI95%   cohen-d   BF10  \\\n",
       "T-test -0.385318   99   two-sided  0.700828  [0.77, 0.84]  0.038532  0.119   \n",
       "\n",
       "           power  \n",
       "T-test  0.066842  "
      ]
     },
     "execution_count": 39,
     "metadata": {},
     "output_type": "execute_result"
    }
   ],
   "source": [
    "pg.ttest(selected_participants[\"rt\"].to_numpy(), all_participants[\"rt\"].mean())"
   ]
  },
  {
   "cell_type": "code",
   "execution_count": 46,
   "id": "ef6d64a3-58cc-41f3-8440-e72df69b92eb",
   "metadata": {
    "tags": []
   },
   "outputs": [
    {
     "data": {
      "text/html": [
       "<div>\n",
       "<style scoped>\n",
       "    .dataframe tbody tr th:only-of-type {\n",
       "        vertical-align: middle;\n",
       "    }\n",
       "\n",
       "    .dataframe tbody tr th {\n",
       "        vertical-align: top;\n",
       "    }\n",
       "\n",
       "    .dataframe thead th {\n",
       "        text-align: right;\n",
       "    }\n",
       "</style>\n",
       "<table border=\"1\" class=\"dataframe\">\n",
       "  <thead>\n",
       "    <tr style=\"text-align: right;\">\n",
       "      <th></th>\n",
       "      <th>T</th>\n",
       "      <th>dof</th>\n",
       "      <th>alternative</th>\n",
       "      <th>p-val</th>\n",
       "      <th>CI95%</th>\n",
       "      <th>cohen-d</th>\n",
       "      <th>BF10</th>\n",
       "      <th>power</th>\n",
       "    </tr>\n",
       "  </thead>\n",
       "  <tbody>\n",
       "    <tr>\n",
       "      <th>T-test</th>\n",
       "      <td>-0.187763</td>\n",
       "      <td>99</td>\n",
       "      <td>two-sided</td>\n",
       "      <td>0.851447</td>\n",
       "      <td>[0.85, 0.87]</td>\n",
       "      <td>0.018776</td>\n",
       "      <td>0.113</td>\n",
       "      <td>0.05397</td>\n",
       "    </tr>\n",
       "  </tbody>\n",
       "</table>\n",
       "</div>"
      ],
      "text/plain": [
       "               T  dof alternative     p-val         CI95%   cohen-d   BF10  \\\n",
       "T-test -0.187763   99   two-sided  0.851447  [0.85, 0.87]  0.018776  0.113   \n",
       "\n",
       "          power  \n",
       "T-test  0.05397  "
      ]
     },
     "execution_count": 46,
     "metadata": {},
     "output_type": "execute_result"
    }
   ],
   "source": [
    "pg.ttest(selected_participants[\"accuracy\"].to_numpy(), all_participants[\"accuracy\"].mean())"
   ]
  },
  {
   "cell_type": "code",
   "execution_count": 40,
   "id": "f33e358c-9a57-4123-a670-e0af5b544c88",
   "metadata": {
    "tags": []
   },
   "outputs": [
    {
     "data": {
      "text/plain": [
       "participant          412.480000\n",
       "rt           mean      0.806357\n",
       "accuracy     mean      0.860331\n",
       "response     mean      0.480645\n",
       "dtype: float64"
      ]
     },
     "execution_count": 40,
     "metadata": {},
     "output_type": "execute_result"
    }
   ],
   "source": [
    "selected_participants.mean()"
   ]
  },
  {
   "cell_type": "code",
   "execution_count": 43,
   "id": "634a801c-5e28-45de-b3fa-3f359b630eb4",
   "metadata": {
    "tags": []
   },
   "outputs": [
    {
     "data": {
      "text/plain": [
       "participant          222.596953\n",
       "rt           mean      0.166791\n",
       "accuracy     mean      0.070514\n",
       "response     mean      0.028958\n",
       "dtype: float64"
      ]
     },
     "execution_count": 43,
     "metadata": {},
     "output_type": "execute_result"
    }
   ],
   "source": [
    "selected_participants.std()"
   ]
  },
  {
   "cell_type": "code",
   "execution_count": 41,
   "id": "459edbdf-78c3-48aa-be1d-980f92a31a20",
   "metadata": {
    "tags": []
   },
   "outputs": [
    {
     "data": {
      "text/plain": [
       "participant          403.500000\n",
       "rt           mean      0.812783\n",
       "accuracy     mean      0.861655\n",
       "response     mean      0.484101\n",
       "dtype: float64"
      ]
     },
     "execution_count": 41,
     "metadata": {},
     "output_type": "execute_result"
    }
   ],
   "source": [
    "all_participants.mean()"
   ]
  },
  {
   "cell_type": "code",
   "execution_count": 44,
   "id": "b8619034-6b3e-41aa-bfdd-7b8f5a5923fd",
   "metadata": {
    "tags": []
   },
   "outputs": [
    {
     "data": {
      "text/plain": [
       "participant          232.816451\n",
       "rt           mean      0.181040\n",
       "accuracy     mean      0.066124\n",
       "response     mean      0.033373\n",
       "dtype: float64"
      ]
     },
     "execution_count": 44,
     "metadata": {},
     "output_type": "execute_result"
    }
   ],
   "source": [
    "all_participants.std()"
   ]
  },
  {
   "cell_type": "code",
   "execution_count": null,
   "id": "37da0d1e-0465-41d8-b3c8-8606308b7d19",
   "metadata": {},
   "outputs": [],
   "source": []
  }
 ],
 "metadata": {
  "kernelspec": {
   "display_name": "stan",
   "language": "python",
   "name": "stan"
  },
  "language_info": {
   "codemirror_mode": {
    "name": "ipython",
    "version": 3
   },
   "file_extension": ".py",
   "mimetype": "text/x-python",
   "name": "python",
   "nbconvert_exporter": "python",
   "pygments_lexer": "ipython3",
   "version": "3.11.0"
  }
 },
 "nbformat": 4,
 "nbformat_minor": 5
}

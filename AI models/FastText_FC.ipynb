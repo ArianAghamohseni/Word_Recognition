{
  "cells": [
    {
      "cell_type": "markdown",
      "metadata": {
        "id": "vRSMuj5HfD-S",
        "tags": []
      },
      "source": [
        "## Connect To Drive"
      ]
    },
    {
      "cell_type": "code",
      "execution_count": null,
      "metadata": {
        "colab": {
          "base_uri": "https://localhost:8080/"
        },
        "id": "Z_026v3GfAvi",
        "outputId": "d5934070-1142-405a-aae2-498c21b1ce80"
      },
      "outputs": [
        {
          "output_type": "stream",
          "name": "stdout",
          "text": [
            "Mounted at /content/drive\n"
          ]
        }
      ],
      "source": [
        "from google.colab import drive\n",
        "drive.mount('/content/drive')\n",
        "root = \"drive/MyDrive/CMP/\""
      ]
    },
    {
      "cell_type": "markdown",
      "metadata": {
        "id": "JkZNSCKYq15J",
        "tags": []
      },
      "source": [
        "## Local"
      ]
    },
    {
      "cell_type": "code",
      "execution_count": null,
      "metadata": {
        "id": "k1Udu8nEIQSe"
      },
      "outputs": [],
      "source": [
        "# root = './'"
      ]
    },
    {
      "cell_type": "markdown",
      "metadata": {
        "id": "lacOS41nHDgz",
        "tags": []
      },
      "source": [
        "## Import Packages"
      ]
    },
    {
      "cell_type": "code",
      "execution_count": null,
      "metadata": {
        "id": "vOL87AhDoCrQ"
      },
      "outputs": [],
      "source": [
        "import numpy as np\n",
        "import pandas as pd\n",
        "import pickle\n",
        "import seaborn as sns\n",
        "import matplotlib.pyplot as plt\n",
        "import seaborn as sns\n",
        "import tensorflow as tf\n",
        "from tensorflow import keras\n",
        "from tensorflow.keras import layers\n",
        "from sklearn.model_selection import KFold\n",
        "from tensorflow.keras.utils import plot_model\n",
        "from sklearn import metrics"
      ]
    },
    {
      "cell_type": "code",
      "execution_count": null,
      "metadata": {
        "id": "csnlG02QIQSe"
      },
      "outputs": [],
      "source": [
        "sns.set_theme(style=\"whitegrid\")\n",
        "plt.rcParams[\"font.family\"] = \"serif\"\n",
        "plt.rcParams[\"font.serif\"] = [\"Times New Roman\"] + plt.rcParams[\"font.serif\"]\n",
        "plt.rcParams['pdf.fonttype'] = 42\n",
        "plt.rcParams['pdf.use14corefonts'] = True"
      ]
    },
    {
      "cell_type": "markdown",
      "metadata": {
        "id": "-dz6tNDJucOf",
        "tags": []
      },
      "source": [
        "## Data Preparation"
      ]
    },
    {
      "cell_type": "markdown",
      "metadata": {
        "id": "p__Ykfy_q15M"
      },
      "source": [
        "#### Load SUBTLEX data"
      ]
    },
    {
      "cell_type": "code",
      "execution_count": null,
      "metadata": {
        "colab": {
          "base_uri": "https://localhost:8080/",
          "height": 206
        },
        "id": "bztuN_k1q15M",
        "outputId": "42846d26-5225-4268-f9da-7dd311a41933"
      },
      "outputs": [
        {
          "output_type": "execute_result",
          "data": {
            "text/plain": [
              "  string      zipf\n",
              "0      a  7.309360\n",
              "1     aa  3.236317\n",
              "2    aaa  2.706807\n",
              "3    aah  4.721425\n",
              "4  aahed  1.592864"
            ],
            "text/html": [
              "\n",
              "  <div id=\"df-bc4e1e9d-64fe-4cd0-b31d-f78551230d7a\">\n",
              "    <div class=\"colab-df-container\">\n",
              "      <div>\n",
              "<style scoped>\n",
              "    .dataframe tbody tr th:only-of-type {\n",
              "        vertical-align: middle;\n",
              "    }\n",
              "\n",
              "    .dataframe tbody tr th {\n",
              "        vertical-align: top;\n",
              "    }\n",
              "\n",
              "    .dataframe thead th {\n",
              "        text-align: right;\n",
              "    }\n",
              "</style>\n",
              "<table border=\"1\" class=\"dataframe\">\n",
              "  <thead>\n",
              "    <tr style=\"text-align: right;\">\n",
              "      <th></th>\n",
              "      <th>string</th>\n",
              "      <th>zipf</th>\n",
              "    </tr>\n",
              "  </thead>\n",
              "  <tbody>\n",
              "    <tr>\n",
              "      <th>0</th>\n",
              "      <td>a</td>\n",
              "      <td>7.309360</td>\n",
              "    </tr>\n",
              "    <tr>\n",
              "      <th>1</th>\n",
              "      <td>aa</td>\n",
              "      <td>3.236317</td>\n",
              "    </tr>\n",
              "    <tr>\n",
              "      <th>2</th>\n",
              "      <td>aaa</td>\n",
              "      <td>2.706807</td>\n",
              "    </tr>\n",
              "    <tr>\n",
              "      <th>3</th>\n",
              "      <td>aah</td>\n",
              "      <td>4.721425</td>\n",
              "    </tr>\n",
              "    <tr>\n",
              "      <th>4</th>\n",
              "      <td>aahed</td>\n",
              "      <td>1.592864</td>\n",
              "    </tr>\n",
              "  </tbody>\n",
              "</table>\n",
              "</div>\n",
              "      <button class=\"colab-df-convert\" onclick=\"convertToInteractive('df-bc4e1e9d-64fe-4cd0-b31d-f78551230d7a')\"\n",
              "              title=\"Convert this dataframe to an interactive table.\"\n",
              "              style=\"display:none;\">\n",
              "        \n",
              "  <svg xmlns=\"http://www.w3.org/2000/svg\" height=\"24px\"viewBox=\"0 0 24 24\"\n",
              "       width=\"24px\">\n",
              "    <path d=\"M0 0h24v24H0V0z\" fill=\"none\"/>\n",
              "    <path d=\"M18.56 5.44l.94 2.06.94-2.06 2.06-.94-2.06-.94-.94-2.06-.94 2.06-2.06.94zm-11 1L8.5 8.5l.94-2.06 2.06-.94-2.06-.94L8.5 2.5l-.94 2.06-2.06.94zm10 10l.94 2.06.94-2.06 2.06-.94-2.06-.94-.94-2.06-.94 2.06-2.06.94z\"/><path d=\"M17.41 7.96l-1.37-1.37c-.4-.4-.92-.59-1.43-.59-.52 0-1.04.2-1.43.59L10.3 9.45l-7.72 7.72c-.78.78-.78 2.05 0 2.83L4 21.41c.39.39.9.59 1.41.59.51 0 1.02-.2 1.41-.59l7.78-7.78 2.81-2.81c.8-.78.8-2.07 0-2.86zM5.41 20L4 18.59l7.72-7.72 1.47 1.35L5.41 20z\"/>\n",
              "  </svg>\n",
              "      </button>\n",
              "      \n",
              "  <style>\n",
              "    .colab-df-container {\n",
              "      display:flex;\n",
              "      flex-wrap:wrap;\n",
              "      gap: 12px;\n",
              "    }\n",
              "\n",
              "    .colab-df-convert {\n",
              "      background-color: #E8F0FE;\n",
              "      border: none;\n",
              "      border-radius: 50%;\n",
              "      cursor: pointer;\n",
              "      display: none;\n",
              "      fill: #1967D2;\n",
              "      height: 32px;\n",
              "      padding: 0 0 0 0;\n",
              "      width: 32px;\n",
              "    }\n",
              "\n",
              "    .colab-df-convert:hover {\n",
              "      background-color: #E2EBFA;\n",
              "      box-shadow: 0px 1px 2px rgba(60, 64, 67, 0.3), 0px 1px 3px 1px rgba(60, 64, 67, 0.15);\n",
              "      fill: #174EA6;\n",
              "    }\n",
              "\n",
              "    [theme=dark] .colab-df-convert {\n",
              "      background-color: #3B4455;\n",
              "      fill: #D2E3FC;\n",
              "    }\n",
              "\n",
              "    [theme=dark] .colab-df-convert:hover {\n",
              "      background-color: #434B5C;\n",
              "      box-shadow: 0px 1px 3px 1px rgba(0, 0, 0, 0.15);\n",
              "      filter: drop-shadow(0px 1px 2px rgba(0, 0, 0, 0.3));\n",
              "      fill: #FFFFFF;\n",
              "    }\n",
              "  </style>\n",
              "\n",
              "      <script>\n",
              "        const buttonEl =\n",
              "          document.querySelector('#df-bc4e1e9d-64fe-4cd0-b31d-f78551230d7a button.colab-df-convert');\n",
              "        buttonEl.style.display =\n",
              "          google.colab.kernel.accessAllowed ? 'block' : 'none';\n",
              "\n",
              "        async function convertToInteractive(key) {\n",
              "          const element = document.querySelector('#df-bc4e1e9d-64fe-4cd0-b31d-f78551230d7a');\n",
              "          const dataTable =\n",
              "            await google.colab.kernel.invokeFunction('convertToInteractive',\n",
              "                                                     [key], {});\n",
              "          if (!dataTable) return;\n",
              "\n",
              "          const docLinkHtml = 'Like what you see? Visit the ' +\n",
              "            '<a target=\"_blank\" href=https://colab.research.google.com/notebooks/data_table.ipynb>data table notebook</a>'\n",
              "            + ' to learn more about interactive tables.';\n",
              "          element.innerHTML = '';\n",
              "          dataTable['output_type'] = 'display_data';\n",
              "          await google.colab.output.renderOutput(dataTable, element);\n",
              "          const docLink = document.createElement('div');\n",
              "          docLink.innerHTML = docLinkHtml;\n",
              "          element.appendChild(docLink);\n",
              "        }\n",
              "      </script>\n",
              "    </div>\n",
              "  </div>\n",
              "  "
            ]
          },
          "metadata": {},
          "execution_count": 5
        }
      ],
      "source": [
        "# Loading subtlex data\n",
        "SUBTLEX_df = pd.read_excel(root+'Datasets/SUBTLEX_Zipf.xlsx')\n",
        "\n",
        "# renaming columns for latter merge use and dropping unneccery columns\n",
        "SUBTLEX_df.rename(columns={'Word':'string', 'Zipf-value': 'zipf'}, inplace=True)\n",
        "SUBTLEX_df.drop(SUBTLEX_df.columns[1:-1], axis=1, inplace=True)\n",
        "SUBTLEX_df.head()"
      ]
    },
    {
      "cell_type": "code",
      "execution_count": null,
      "metadata": {
        "colab": {
          "base_uri": "https://localhost:8080/"
        },
        "id": "mL8vqyU-q15N",
        "outputId": "c19bfb68-ebda-45d2-a4af-1f0273d19013"
      },
      "outputs": [
        {
          "output_type": "execute_result",
          "data": {
            "text/plain": [
              "count    74286.000000\n",
              "mean         2.479172\n",
              "std          0.835829\n",
              "min          1.592864\n",
              "25%          1.768955\n",
              "50%          2.291834\n",
              "75%          2.954592\n",
              "max          7.621174\n",
              "Name: zipf, dtype: float64"
            ]
          },
          "metadata": {},
          "execution_count": 6
        }
      ],
      "source": [
        "SUBTLEX_df['zipf'].describe()"
      ]
    },
    {
      "cell_type": "code",
      "execution_count": null,
      "metadata": {
        "id": "vDujDcOeB8sB"
      },
      "outputs": [],
      "source": [
        "def categorise_by_zipf(row):\n",
        "    \"\"\"\n",
        "    categorizing data string as High frequency word (HF),\n",
        "    Low frequency word (LF) and non-word (NW) by zipf value\n",
        "\n",
        "    Parameters\n",
        "    ----------\n",
        "        row: pandas series\n",
        "            pandas dataframe's row containing label and zipf column\n",
        "    \n",
        "    Returns:\n",
        "        category (str): HF, LF, NW\n",
        "    \"\"\"\n",
        "    category = ''\n",
        "    if row['label'] == 0:\n",
        "        category = 'NW'\n",
        "    elif row['label'] == 1 and row['zipf'] > 3:\n",
        "        category = 'HF'\n",
        "    else:\n",
        "        category = 'LF'\n",
        "    return category"
      ]
    },
    {
      "cell_type": "markdown",
      "metadata": {
        "id": "FeEvyWuKq15P"
      },
      "source": [
        "#### Load ELP data and Merge with Subtlex data"
      ]
    },
    {
      "cell_type": "markdown",
      "metadata": {
        "id": "BDKdBSniq15P"
      },
      "source": [
        "Reading **words** and **non-words** FastText represention"
      ]
    },
    {
      "cell_type": "code",
      "execution_count": null,
      "metadata": {
        "id": "t0fDCWmcseFM"
      },
      "outputs": [],
      "source": [
        "with open(root+'Datasets/FastText_V3/words_2M.pkl', 'rb') as f:\n",
        "  words = pickle.load(f)\n",
        "\n",
        "with open(root+'Datasets/FastText_V3/nonwords_2M.pkl', 'rb') as f:\n",
        "  nonwords = pickle.load(f)"
      ]
    },
    {
      "cell_type": "markdown",
      "metadata": {
        "id": "dVIUY0_Wq15P"
      },
      "source": [
        "Adding appropriate encodings for extra information for both words and non-words"
      ]
    },
    {
      "cell_type": "code",
      "execution_count": null,
      "metadata": {
        "id": "KnkAOS_KqQTq"
      },
      "outputs": [],
      "source": [
        "for w in words:\n",
        "    w.insert(3, [1, 0])\n",
        "    w.insert(4, 1)\n",
        "\n",
        "for nw in nonwords:\n",
        "    nw.insert(1, 0)\n",
        "    nw.insert(3, [0, 1])\n",
        "    nw.insert(4, 0)"
      ]
    },
    {
      "cell_type": "markdown",
      "metadata": {
        "id": "aWv1tnE1q15Q"
      },
      "source": [
        "Loading elp data and merging them with subtlex data"
      ]
    },
    {
      "cell_type": "code",
      "execution_count": null,
      "metadata": {
        "id": "c2Hrh-MYq15Q"
      },
      "outputs": [],
      "source": [
        "# loading elp words and non-words as seprate dataframes\n",
        "elp_words = pd.DataFrame(words, columns =['string', 'freq', 'represention', 'code', 'label'])\n",
        "elp_nonwords = pd.DataFrame(nonwords, columns =['string', 'freq', 'represention', 'code', 'label'])\n",
        "\n",
        "# mergeing elp words with subtlex words to get zipf for each elp words\n",
        "# elp words that does not have zipf will be droped\n",
        "elp_words = pd.merge(elp_words, SUBTLEX_df, on='string', how='left').dropna()\n",
        "elp_df = pd.concat([elp_words, elp_nonwords])\n",
        "\n",
        "# \n",
        "elp_df.fillna(0, inplace=True)\n",
        "elp_df['category'] = elp_df.apply(lambda row: categorise_by_zipf(row), axis=1)\n",
        "elp_df.drop_duplicates(subset=['string'], inplace=True)"
      ]
    },
    {
      "cell_type": "code",
      "execution_count": null,
      "metadata": {
        "colab": {
          "base_uri": "https://localhost:8080/",
          "height": 206
        },
        "id": "Rpo-YDwQ6XAs",
        "outputId": "c311f41d-b365-417d-c396-4133aaa23a21"
      },
      "outputs": [
        {
          "output_type": "execute_result",
          "data": {
            "text/plain": [
              "          string freq                                       represention  \\\n",
              "17335      Ipe's    0  [-0.008398541, -0.005443717, 0.01434593, 0.000...   \n",
              "36309  toothcamb    0  [0.008599287, 0.006343102, 0.08993241, 0.03874...   \n",
              "13860     flicks  702  [0.034721207, -0.029017892, 0.042743854, -0.00...   \n",
              "30576     Samoar    0  [-0.019440493, -0.044849873, 0.055061113, 0.00...   \n",
              "12956   lastened    0  [-0.00028915014, -0.10609062, 0.019582193, 0.0...   \n",
              "\n",
              "         code  label      zipf category  \n",
              "17335  [0, 1]      0  0.000000       NW  \n",
              "36309  [0, 1]      0  0.000000       NW  \n",
              "13860  [1, 0]      1  2.935287       LF  \n",
              "30576  [0, 1]      0  0.000000       NW  \n",
              "12956  [0, 1]      0  0.000000       NW  "
            ],
            "text/html": [
              "\n",
              "  <div id=\"df-7634edb4-93ae-4d37-816d-71c16e74394e\">\n",
              "    <div class=\"colab-df-container\">\n",
              "      <div>\n",
              "<style scoped>\n",
              "    .dataframe tbody tr th:only-of-type {\n",
              "        vertical-align: middle;\n",
              "    }\n",
              "\n",
              "    .dataframe tbody tr th {\n",
              "        vertical-align: top;\n",
              "    }\n",
              "\n",
              "    .dataframe thead th {\n",
              "        text-align: right;\n",
              "    }\n",
              "</style>\n",
              "<table border=\"1\" class=\"dataframe\">\n",
              "  <thead>\n",
              "    <tr style=\"text-align: right;\">\n",
              "      <th></th>\n",
              "      <th>string</th>\n",
              "      <th>freq</th>\n",
              "      <th>represention</th>\n",
              "      <th>code</th>\n",
              "      <th>label</th>\n",
              "      <th>zipf</th>\n",
              "      <th>category</th>\n",
              "    </tr>\n",
              "  </thead>\n",
              "  <tbody>\n",
              "    <tr>\n",
              "      <th>17335</th>\n",
              "      <td>Ipe's</td>\n",
              "      <td>0</td>\n",
              "      <td>[-0.008398541, -0.005443717, 0.01434593, 0.000...</td>\n",
              "      <td>[0, 1]</td>\n",
              "      <td>0</td>\n",
              "      <td>0.000000</td>\n",
              "      <td>NW</td>\n",
              "    </tr>\n",
              "    <tr>\n",
              "      <th>36309</th>\n",
              "      <td>toothcamb</td>\n",
              "      <td>0</td>\n",
              "      <td>[0.008599287, 0.006343102, 0.08993241, 0.03874...</td>\n",
              "      <td>[0, 1]</td>\n",
              "      <td>0</td>\n",
              "      <td>0.000000</td>\n",
              "      <td>NW</td>\n",
              "    </tr>\n",
              "    <tr>\n",
              "      <th>13860</th>\n",
              "      <td>flicks</td>\n",
              "      <td>702</td>\n",
              "      <td>[0.034721207, -0.029017892, 0.042743854, -0.00...</td>\n",
              "      <td>[1, 0]</td>\n",
              "      <td>1</td>\n",
              "      <td>2.935287</td>\n",
              "      <td>LF</td>\n",
              "    </tr>\n",
              "    <tr>\n",
              "      <th>30576</th>\n",
              "      <td>Samoar</td>\n",
              "      <td>0</td>\n",
              "      <td>[-0.019440493, -0.044849873, 0.055061113, 0.00...</td>\n",
              "      <td>[0, 1]</td>\n",
              "      <td>0</td>\n",
              "      <td>0.000000</td>\n",
              "      <td>NW</td>\n",
              "    </tr>\n",
              "    <tr>\n",
              "      <th>12956</th>\n",
              "      <td>lastened</td>\n",
              "      <td>0</td>\n",
              "      <td>[-0.00028915014, -0.10609062, 0.019582193, 0.0...</td>\n",
              "      <td>[0, 1]</td>\n",
              "      <td>0</td>\n",
              "      <td>0.000000</td>\n",
              "      <td>NW</td>\n",
              "    </tr>\n",
              "  </tbody>\n",
              "</table>\n",
              "</div>\n",
              "      <button class=\"colab-df-convert\" onclick=\"convertToInteractive('df-7634edb4-93ae-4d37-816d-71c16e74394e')\"\n",
              "              title=\"Convert this dataframe to an interactive table.\"\n",
              "              style=\"display:none;\">\n",
              "        \n",
              "  <svg xmlns=\"http://www.w3.org/2000/svg\" height=\"24px\"viewBox=\"0 0 24 24\"\n",
              "       width=\"24px\">\n",
              "    <path d=\"M0 0h24v24H0V0z\" fill=\"none\"/>\n",
              "    <path d=\"M18.56 5.44l.94 2.06.94-2.06 2.06-.94-2.06-.94-.94-2.06-.94 2.06-2.06.94zm-11 1L8.5 8.5l.94-2.06 2.06-.94-2.06-.94L8.5 2.5l-.94 2.06-2.06.94zm10 10l.94 2.06.94-2.06 2.06-.94-2.06-.94-.94-2.06-.94 2.06-2.06.94z\"/><path d=\"M17.41 7.96l-1.37-1.37c-.4-.4-.92-.59-1.43-.59-.52 0-1.04.2-1.43.59L10.3 9.45l-7.72 7.72c-.78.78-.78 2.05 0 2.83L4 21.41c.39.39.9.59 1.41.59.51 0 1.02-.2 1.41-.59l7.78-7.78 2.81-2.81c.8-.78.8-2.07 0-2.86zM5.41 20L4 18.59l7.72-7.72 1.47 1.35L5.41 20z\"/>\n",
              "  </svg>\n",
              "      </button>\n",
              "      \n",
              "  <style>\n",
              "    .colab-df-container {\n",
              "      display:flex;\n",
              "      flex-wrap:wrap;\n",
              "      gap: 12px;\n",
              "    }\n",
              "\n",
              "    .colab-df-convert {\n",
              "      background-color: #E8F0FE;\n",
              "      border: none;\n",
              "      border-radius: 50%;\n",
              "      cursor: pointer;\n",
              "      display: none;\n",
              "      fill: #1967D2;\n",
              "      height: 32px;\n",
              "      padding: 0 0 0 0;\n",
              "      width: 32px;\n",
              "    }\n",
              "\n",
              "    .colab-df-convert:hover {\n",
              "      background-color: #E2EBFA;\n",
              "      box-shadow: 0px 1px 2px rgba(60, 64, 67, 0.3), 0px 1px 3px 1px rgba(60, 64, 67, 0.15);\n",
              "      fill: #174EA6;\n",
              "    }\n",
              "\n",
              "    [theme=dark] .colab-df-convert {\n",
              "      background-color: #3B4455;\n",
              "      fill: #D2E3FC;\n",
              "    }\n",
              "\n",
              "    [theme=dark] .colab-df-convert:hover {\n",
              "      background-color: #434B5C;\n",
              "      box-shadow: 0px 1px 3px 1px rgba(0, 0, 0, 0.15);\n",
              "      filter: drop-shadow(0px 1px 2px rgba(0, 0, 0, 0.3));\n",
              "      fill: #FFFFFF;\n",
              "    }\n",
              "  </style>\n",
              "\n",
              "      <script>\n",
              "        const buttonEl =\n",
              "          document.querySelector('#df-7634edb4-93ae-4d37-816d-71c16e74394e button.colab-df-convert');\n",
              "        buttonEl.style.display =\n",
              "          google.colab.kernel.accessAllowed ? 'block' : 'none';\n",
              "\n",
              "        async function convertToInteractive(key) {\n",
              "          const element = document.querySelector('#df-7634edb4-93ae-4d37-816d-71c16e74394e');\n",
              "          const dataTable =\n",
              "            await google.colab.kernel.invokeFunction('convertToInteractive',\n",
              "                                                     [key], {});\n",
              "          if (!dataTable) return;\n",
              "\n",
              "          const docLinkHtml = 'Like what you see? Visit the ' +\n",
              "            '<a target=\"_blank\" href=https://colab.research.google.com/notebooks/data_table.ipynb>data table notebook</a>'\n",
              "            + ' to learn more about interactive tables.';\n",
              "          element.innerHTML = '';\n",
              "          dataTable['output_type'] = 'display_data';\n",
              "          await google.colab.output.renderOutput(dataTable, element);\n",
              "          const docLink = document.createElement('div');\n",
              "          docLink.innerHTML = docLinkHtml;\n",
              "          element.appendChild(docLink);\n",
              "        }\n",
              "      </script>\n",
              "    </div>\n",
              "  </div>\n",
              "  "
            ]
          },
          "metadata": {},
          "execution_count": 11
        }
      ],
      "source": [
        "elp_df = elp_df.sample(frac=1.0)\n",
        "elp_df.head()"
      ]
    },
    {
      "cell_type": "code",
      "source": [
        "from sklearn.model_selection import train_test_split\n",
        "X_train, X_test, y_train, y_test = train_test_split(elp_df['represention'],elp_df['code'], stratify=elp_df['label'], test_size=.2)"
      ],
      "metadata": {
        "id": "9l-xcEEN0c8z"
      },
      "execution_count": null,
      "outputs": []
    },
    {
      "cell_type": "markdown",
      "metadata": {
        "id": "sQOZT435Ww6G"
      },
      "source": [
        "## Nueral Network"
      ]
    },
    {
      "cell_type": "code",
      "execution_count": null,
      "metadata": {
        "colab": {
          "base_uri": "https://localhost:8080/",
          "height": 1000
        },
        "id": "1Zq5pZILMCZp",
        "outputId": "0404682e-a568-452b-f285-b025407a36a9"
      },
      "outputs": [
        {
          "output_type": "stream",
          "name": "stdout",
          "text": [
            "Model: \"sequential\"\n",
            "_________________________________________________________________\n",
            " Layer (type)                Output Shape              Param #   \n",
            "=================================================================\n",
            " dense1 (Dense)              (None, 300)               90300     \n",
            "                                                                 \n",
            " dense2 (Dense)              (None, 300)               90300     \n",
            "                                                                 \n",
            " dropout (Dropout)           (None, 300)               0         \n",
            "                                                                 \n",
            " dense3 (Dense)              (None, 100)               30100     \n",
            "                                                                 \n",
            " dense4 (Dense)              (None, 50)                5050      \n",
            "                                                                 \n",
            " dropout_1 (Dropout)         (None, 50)                0         \n",
            "                                                                 \n",
            " dense5 (Dense)              (None, 10)                510       \n",
            "                                                                 \n",
            " clf (Dense)                 (None, 2)                 22        \n",
            "                                                                 \n",
            "=================================================================\n",
            "Total params: 216,282\n",
            "Trainable params: 216,282\n",
            "Non-trainable params: 0\n",
            "_________________________________________________________________\n"
          ]
        },
        {
          "output_type": "execute_result",
          "data": {
            "image/png": "[encoded data removed]",
            "text/plain": [
              "<IPython.core.display.Image object>"
            ]
          },
          "metadata": {},
          "execution_count": 13
        }
      ],
      "source": [
        "# Sequential Model\n",
        "model = tf.keras.models.Sequential()\n",
        "model.add(tf.keras.layers.Input(shape=(300,)))\n",
        "model.add(layers.Dense(300, activation=\"relu\", name=\"dense1\"))\n",
        "model.add(layers.Dense(300, activation=\"relu\", name=\"dense2\"))\n",
        "model.add(layers.Dropout(0.25))\n",
        "model.add(layers.Dense(100, activation=\"relu\", name=\"dense3\"))\n",
        "model.add(layers.Dense(50, activation=\"relu\", name=\"dense4\"))\n",
        "model.add(layers.Dropout(0.25))\n",
        "model.add(layers.Dense(10, activation=\"relu\", name=\"dense5\"))\n",
        "model.add(layers.Dense(2, activation='softmax', name='clf'))\n",
        "\n",
        "opt = tf.keras.optimizers.Adam()\n",
        "model.compile(optimizer=opt,\n",
        "              loss=tf.keras.losses.categorical_crossentropy,\n",
        "              metrics=['accuracy'])\n",
        "\n",
        "model.summary()\n",
        "plot_model(model, to_file=root+'/Plots/Classification/fully_connected_model.png', show_shapes=True)"
      ]
    },
    {
      "cell_type": "code",
      "source": [
        "model.fit(\n",
        "    x=np.array(list(X_train)),\n",
        "    y=np.array(list(y_train)),\n",
        "    validation_data=(np.array(list(X_test)), np.array(list(y_test))),\n",
        "    epochs=10,\n",
        "    callbacks=[\n",
        "      tf.keras.callbacks.EarlyStopping(\n",
        "          monitor='val_loss',\n",
        "          patience=5,\n",
        "          restore_best_weights=True\n",
        "      )\n",
        "  ]\n",
        ")"
      ],
      "metadata": {
        "colab": {
          "base_uri": "https://localhost:8080/"
        },
        "id": "02Dji-jm0O9S",
        "outputId": "76c01ebb-bb0d-4f8a-c938-f0734dd3bc75"
      },
      "execution_count": null,
      "outputs": [
        {
          "output_type": "stream",
          "name": "stdout",
          "text": [
            "Epoch 1/10\n",
            "1858/1858 [==============================] - 19s 9ms/step - loss: 0.0452 - accuracy: 0.9871 - val_loss: 0.0364 - val_accuracy: 0.9909\n",
            "Epoch 2/10\n",
            "1858/1858 [==============================] - 15s 8ms/step - loss: 0.0223 - accuracy: 0.9935 - val_loss: 0.0270 - val_accuracy: 0.9923\n",
            "Epoch 3/10\n",
            "1858/1858 [==============================] - 19s 10ms/step - loss: 0.0152 - accuracy: 0.9958 - val_loss: 0.0297 - val_accuracy: 0.9919\n",
            "Epoch 4/10\n",
            "1858/1858 [==============================] - 15s 8ms/step - loss: 0.0113 - accuracy: 0.9969 - val_loss: 0.0334 - val_accuracy: 0.9924\n",
            "Epoch 5/10\n",
            "1858/1858 [==============================] - 15s 8ms/step - loss: 0.0083 - accuracy: 0.9977 - val_loss: 0.0528 - val_accuracy: 0.9925\n",
            "Epoch 6/10\n",
            "1858/1858 [==============================] - 17s 9ms/step - loss: 0.0067 - accuracy: 0.9983 - val_loss: 0.0406 - val_accuracy: 0.9933\n",
            "Epoch 7/10\n",
            "1858/1858 [==============================] - 15s 8ms/step - loss: 0.0064 - accuracy: 0.9983 - val_loss: 0.0506 - val_accuracy: 0.9929\n"
          ]
        },
        {
          "output_type": "execute_result",
          "data": {
            "text/plain": [
              "<keras.callbacks.History at 0x7fe13d756820>"
            ]
          },
          "metadata": {},
          "execution_count": 14
        }
      ]
    },
    {
      "cell_type": "code",
      "execution_count": null,
      "metadata": {
        "id": "jbVkp8yjqQTu",
        "colab": {
          "base_uri": "https://localhost:8080/"
        },
        "outputId": "fa274818-8df7-4273-920a-6b657f34287d"
      },
      "outputs": [
        {
          "output_type": "stream",
          "name": "stderr",
          "text": [
            "WARNING:absl:Found untraced functions such as _update_step_xla while saving (showing 1 of 1). These functions will not be directly callable after loading.\n"
          ]
        }
      ],
      "source": [
        "model.save(root + '/check_points/fully_connected/FT_Model')"
      ]
    },
    {
      "cell_type": "markdown",
      "metadata": {
        "id": "Oy1FRAqGB8sO",
        "tags": []
      },
      "source": [
        "## Predicted Probabilities on full dataset\n"
      ]
    },
    {
      "cell_type": "code",
      "execution_count": null,
      "metadata": {
        "id": "_FCnDm48B8sO",
        "colab": {
          "base_uri": "https://localhost:8080/"
        },
        "outputId": "8c3b5f9d-59bf-4d74-e2aa-5ec86fbbc9ef"
      },
      "outputs": [
        {
          "output_type": "stream",
          "name": "stdout",
          "text": [
            "2323/2323 [==============================] - 7s 3ms/step\n"
          ]
        }
      ],
      "source": [
        "full_dataset_predictions = model.predict(np.array(list(elp_df['represention'])))"
      ]
    },
    {
      "cell_type": "markdown",
      "metadata": {
        "id": "iX2uo-ZPq15U"
      },
      "source": [
        "#### Classification results"
      ]
    },
    {
      "cell_type": "code",
      "execution_count": null,
      "metadata": {
        "colab": {
          "base_uri": "https://localhost:8080/"
        },
        "id": "YhN1ubS5uD7N",
        "outputId": "7a8bd0c7-5461-44f6-9e4a-aec699f1036d"
      },
      "outputs": [
        {
          "output_type": "stream",
          "name": "stdout",
          "text": [
            "              precision    recall  f1-score   support\n",
            "\n",
            "           0     0.9937    0.9962    0.9950     33978\n",
            "           1     0.9968    0.9947    0.9957     40339\n",
            "\n",
            "    accuracy                         0.9954     74317\n",
            "   macro avg     0.9953    0.9954    0.9954     74317\n",
            "weighted avg     0.9954    0.9954    0.9954     74317\n",
            "\n"
          ]
        }
      ],
      "source": [
        "print(metrics.classification_report(np.argmax(np.array(list(elp_df['code'])), axis=1), np.argmax(full_dataset_predictions, axis=1), digits=4))"
      ]
    },
    {
      "cell_type": "code",
      "execution_count": null,
      "metadata": {
        "colab": {
          "base_uri": "https://localhost:8080/"
        },
        "id": "gpHNFXlkq15U",
        "outputId": "0043785b-b101-4fd0-c3cc-809eca7d5434"
      },
      "outputs": [
        {
          "output_type": "execute_result",
          "data": {
            "text/plain": [
              "0.9953846360859561"
            ]
          },
          "metadata": {},
          "execution_count": 18
        }
      ],
      "source": [
        "acc_score = (metrics.accuracy_score(np.argmax(np.array(list(elp_df['code'])), axis=1),  np.argmax(full_dataset_predictions, axis=1)))\n",
        "acc_score"
      ]
    },
    {
      "cell_type": "markdown",
      "metadata": {
        "id": "Rpq2t2Xdq15U"
      },
      "source": [
        "#### Confusion Matrix"
      ]
    },
    {
      "cell_type": "code",
      "execution_count": null,
      "metadata": {
        "colab": {
          "base_uri": "https://localhost:8080/",
          "height": 587
        },
        "id": "1kHYNPtvq15V",
        "outputId": "c066ca7e-e54d-4d1f-ac77-9a37645ba44e"
      },
      "outputs": [
        {
          "output_type": "display_data",
          "data": {
            "text/plain": [
              "<Figure size 648x648 with 1 Axes>"
            ],
            "image/png": "[encoded data removed]"
          },
          "metadata": {}
        }
      ],
      "source": [
        "cm = metrics.confusion_matrix(np.argmax(np.array(list(elp_df['code'])), axis=1), np.argmax(full_dataset_predictions, axis=1))\n",
        "plt.figure(figsize=(9,9))\n",
        "hm = sns.heatmap(cm, annot=True, fmt=\".0f\", cbar=False, linewidths=.5, square = True, cmap = 'Blues_r',\n",
        "            annot_kws={\n",
        "                'fontsize': 16,\n",
        "                'fontweight': 'bold'\n",
        "            });\n",
        "hm.set_xticklabels(hm.get_xmajorticklabels(), fontsize = 14)\n",
        "hm.set_yticklabels(hm.get_ymajorticklabels(), fontsize = 14)\n",
        "hm.set_xlabel('Actual label', fontsize=18);\n",
        "hm.set_ylabel('Predicted label', fontsize=18);\n",
        "all_sample_title = 'Accuracy Score: {0}'.format(acc_score)\n",
        "plt.title(all_sample_title, size = 20);\n",
        "plt.savefig(root+'Plots/Classification/FC_full.pdf')"
      ]
    },
    {
      "cell_type": "markdown",
      "source": [
        "## Predicted Probabilities on Test dataset\n"
      ],
      "metadata": {
        "id": "3TXNnazrpP7V"
      }
    },
    {
      "cell_type": "code",
      "source": [
        "valid_dataset_predictions = model.predict(np.array(list(X_test)))"
      ],
      "metadata": {
        "colab": {
          "base_uri": "https://localhost:8080/"
        },
        "id": "-62HLixopQtB",
        "outputId": "c48c5691-5b03-4e28-aa5a-2a2f76d0b518"
      },
      "execution_count": null,
      "outputs": [
        {
          "output_type": "stream",
          "name": "stdout",
          "text": [
            "465/465 [==============================] - 1s 2ms/step\n"
          ]
        }
      ]
    },
    {
      "cell_type": "code",
      "source": [
        "print(metrics.classification_report(np.argmax(np.array(list(y_test)), axis=1), np.argmax(valid_dataset_predictions, axis=1), digits=4))"
      ],
      "metadata": {
        "colab": {
          "base_uri": "https://localhost:8080/"
        },
        "id": "lQ9l4P6_pbPJ",
        "outputId": "5e867255-c2da-4c21-bcfa-ffd7ced07a44"
      },
      "execution_count": null,
      "outputs": [
        {
          "output_type": "stream",
          "name": "stdout",
          "text": [
            "              precision    recall  f1-score   support\n",
            "\n",
            "           0     0.9900    0.9932    0.9916      6796\n",
            "           1     0.9943    0.9916    0.9929      8068\n",
            "\n",
            "    accuracy                         0.9923     14864\n",
            "   macro avg     0.9922    0.9924    0.9923     14864\n",
            "weighted avg     0.9923    0.9923    0.9923     14864\n",
            "\n"
          ]
        }
      ]
    },
    {
      "cell_type": "code",
      "source": [
        "acc_score = (metrics.accuracy_score(np.argmax(np.array(list(y_test)), axis=1), np.argmax(valid_dataset_predictions, axis=1)))\n",
        "acc_score"
      ],
      "metadata": {
        "colab": {
          "base_uri": "https://localhost:8080/"
        },
        "id": "hSUBuEXWpbMZ",
        "outputId": "2e5112ad-4c1a-4796-f990-fd3691ef3899"
      },
      "execution_count": null,
      "outputs": [
        {
          "output_type": "execute_result",
          "data": {
            "text/plain": [
              "0.9923304628632938"
            ]
          },
          "metadata": {},
          "execution_count": 22
        }
      ]
    },
    {
      "cell_type": "code",
      "source": [
        "cm_test = metrics.confusion_matrix(np.argmax(np.array(list(y_test)), axis=1), np.argmax(valid_dataset_predictions, axis=1))\n",
        "plt.figure(figsize=(9,9))\n",
        "hm = sns.heatmap(cm_test, annot=True, fmt=\".0f\", cbar=False, linewidths=.5, square = True, cmap = 'Blues_r',\n",
        "            annot_kws={\n",
        "                'fontsize': 16,\n",
        "                'fontweight': 'bold'\n",
        "            });\n",
        "hm.set_xticklabels(hm.get_xmajorticklabels(), fontsize = 14)\n",
        "hm.set_yticklabels(hm.get_ymajorticklabels(), fontsize = 14)\n",
        "hm.set_xlabel('Actual label', fontsize=18);\n",
        "hm.set_ylabel('Predicted label', fontsize=18);\n",
        "all_sample_title = 'Accuracy Score: {0}'.format(acc_score)\n",
        "plt.title(all_sample_title, size = 20);\n",
        "plt.savefig(root+'Plots/Classification/Test Res/FT_test_set.pdf')"
      ],
      "metadata": {
        "colab": {
          "base_uri": "https://localhost:8080/",
          "height": 587
        },
        "id": "iyDOFt37pbKI",
        "outputId": "4be66827-920f-42fa-fa4a-50f2a5a0e53f"
      },
      "execution_count": null,
      "outputs": [
        {
          "output_type": "display_data",
          "data": {
            "text/plain": [
              "<Figure size 648x648 with 1 Axes>"
            ],
            "image/png": "[encoded data removed]"
          },
          "metadata": {}
        }
      ]
    },
    {
      "cell_type": "code",
      "source": [],
      "metadata": {
        "id": "i8HoaSh5pbG9"
      },
      "execution_count": null,
      "outputs": []
    },
    {
      "cell_type": "markdown",
      "metadata": {
        "id": "VxLar-w1q15V"
      },
      "source": [
        "# Pridected Probabilites for each words category and non-words on FULL DATSET"
      ]
    },
    {
      "cell_type": "code",
      "execution_count": null,
      "metadata": {
        "id": "guNpoFvjB8sP"
      },
      "outputs": [],
      "source": [
        "elp_df['word_prob'] = full_dataset_predictions[:,0]\n",
        "elp_df['nword_prob'] = full_dataset_predictions[:,1]"
      ]
    },
    {
      "cell_type": "code",
      "execution_count": null,
      "metadata": {
        "colab": {
          "base_uri": "https://localhost:8080/",
          "height": 206
        },
        "id": "gADp8COsFSGt",
        "outputId": "f657ed70-f6a6-4641-84d3-d140001630a4"
      },
      "outputs": [
        {
          "output_type": "execute_result",
          "data": {
            "text/plain": [
              "         word_prob                                          nword_prob  \\\n",
              "              mean       std  count       max           min       mean   \n",
              "category                                                                 \n",
              "HF        0.995132  0.041557  14333  1.000000  1.009140e-01   0.004868   \n",
              "LF        0.991479  0.059594  19645  1.000000  1.517003e-05   0.008521   \n",
              "NW        0.010372  0.067608  40339  0.999999  1.479611e-14   0.989628   \n",
              "\n",
              "                                                   \n",
              "               std  count       max           min  \n",
              "category                                           \n",
              "HF        0.041557  14333  0.899086  4.211127e-27  \n",
              "LF        0.059594  19645  0.999985  6.709425e-14  \n",
              "NW        0.067608  40339  1.000000  1.072958e-06  "
            ],
            "text/html": [
              "\n",
              "  <div id=\"df-1ccfa47b-edbb-4786-8e65-25dfc84aae6d\">\n",
              "    <div class=\"colab-df-container\">\n",
              "      <div>\n",
              "<style scoped>\n",
              "    .dataframe tbody tr th:only-of-type {\n",
              "        vertical-align: middle;\n",
              "    }\n",
              "\n",
              "    .dataframe tbody tr th {\n",
              "        vertical-align: top;\n",
              "    }\n",
              "\n",
              "    .dataframe thead tr th {\n",
              "        text-align: left;\n",
              "    }\n",
              "\n",
              "    .dataframe thead tr:last-of-type th {\n",
              "        text-align: right;\n",
              "    }\n",
              "</style>\n",
              "<table border=\"1\" class=\"dataframe\">\n",
              "  <thead>\n",
              "    <tr>\n",
              "      <th></th>\n",
              "      <th colspan=\"5\" halign=\"left\">word_prob</th>\n",
              "      <th colspan=\"5\" halign=\"left\">nword_prob</th>\n",
              "    </tr>\n",
              "    <tr>\n",
              "      <th></th>\n",
              "      <th>mean</th>\n",
              "      <th>std</th>\n",
              "      <th>count</th>\n",
              "      <th>max</th>\n",
              "      <th>min</th>\n",
              "      <th>mean</th>\n",
              "      <th>std</th>\n",
              "      <th>count</th>\n",
              "      <th>max</th>\n",
              "      <th>min</th>\n",
              "    </tr>\n",
              "    <tr>\n",
              "      <th>category</th>\n",
              "      <th></th>\n",
              "      <th></th>\n",
              "      <th></th>\n",
              "      <th></th>\n",
              "      <th></th>\n",
              "      <th></th>\n",
              "      <th></th>\n",
              "      <th></th>\n",
              "      <th></th>\n",
              "      <th></th>\n",
              "    </tr>\n",
              "  </thead>\n",
              "  <tbody>\n",
              "    <tr>\n",
              "      <th>HF</th>\n",
              "      <td>0.995132</td>\n",
              "      <td>0.041557</td>\n",
              "      <td>14333</td>\n",
              "      <td>1.000000</td>\n",
              "      <td>1.009140e-01</td>\n",
              "      <td>0.004868</td>\n",
              "      <td>0.041557</td>\n",
              "      <td>14333</td>\n",
              "      <td>0.899086</td>\n",
              "      <td>4.211127e-27</td>\n",
              "    </tr>\n",
              "    <tr>\n",
              "      <th>LF</th>\n",
              "      <td>0.991479</td>\n",
              "      <td>0.059594</td>\n",
              "      <td>19645</td>\n",
              "      <td>1.000000</td>\n",
              "      <td>1.517003e-05</td>\n",
              "      <td>0.008521</td>\n",
              "      <td>0.059594</td>\n",
              "      <td>19645</td>\n",
              "      <td>0.999985</td>\n",
              "      <td>6.709425e-14</td>\n",
              "    </tr>\n",
              "    <tr>\n",
              "      <th>NW</th>\n",
              "      <td>0.010372</td>\n",
              "      <td>0.067608</td>\n",
              "      <td>40339</td>\n",
              "      <td>0.999999</td>\n",
              "      <td>1.479611e-14</td>\n",
              "      <td>0.989628</td>\n",
              "      <td>0.067608</td>\n",
              "      <td>40339</td>\n",
              "      <td>1.000000</td>\n",
              "      <td>1.072958e-06</td>\n",
              "    </tr>\n",
              "  </tbody>\n",
              "</table>\n",
              "</div>\n",
              "      <button class=\"colab-df-convert\" onclick=\"convertToInteractive('df-1ccfa47b-edbb-4786-8e65-25dfc84aae6d')\"\n",
              "              title=\"Convert this dataframe to an interactive table.\"\n",
              "              style=\"display:none;\">\n",
              "        \n",
              "  <svg xmlns=\"http://www.w3.org/2000/svg\" height=\"24px\"viewBox=\"0 0 24 24\"\n",
              "       width=\"24px\">\n",
              "    <path d=\"M0 0h24v24H0V0z\" fill=\"none\"/>\n",
              "    <path d=\"M18.56 5.44l.94 2.06.94-2.06 2.06-.94-2.06-.94-.94-2.06-.94 2.06-2.06.94zm-11 1L8.5 8.5l.94-2.06 2.06-.94-2.06-.94L8.5 2.5l-.94 2.06-2.06.94zm10 10l.94 2.06.94-2.06 2.06-.94-2.06-.94-.94-2.06-.94 2.06-2.06.94z\"/><path d=\"M17.41 7.96l-1.37-1.37c-.4-.4-.92-.59-1.43-.59-.52 0-1.04.2-1.43.59L10.3 9.45l-7.72 7.72c-.78.78-.78 2.05 0 2.83L4 21.41c.39.39.9.59 1.41.59.51 0 1.02-.2 1.41-.59l7.78-7.78 2.81-2.81c.8-.78.8-2.07 0-2.86zM5.41 20L4 18.59l7.72-7.72 1.47 1.35L5.41 20z\"/>\n",
              "  </svg>\n",
              "      </button>\n",
              "      \n",
              "  <style>\n",
              "    .colab-df-container {\n",
              "      display:flex;\n",
              "      flex-wrap:wrap;\n",
              "      gap: 12px;\n",
              "    }\n",
              "\n",
              "    .colab-df-convert {\n",
              "      background-color: #E8F0FE;\n",
              "      border: none;\n",
              "      border-radius: 50%;\n",
              "      cursor: pointer;\n",
              "      display: none;\n",
              "      fill: #1967D2;\n",
              "      height: 32px;\n",
              "      padding: 0 0 0 0;\n",
              "      width: 32px;\n",
              "    }\n",
              "\n",
              "    .colab-df-convert:hover {\n",
              "      background-color: #E2EBFA;\n",
              "      box-shadow: 0px 1px 2px rgba(60, 64, 67, 0.3), 0px 1px 3px 1px rgba(60, 64, 67, 0.15);\n",
              "      fill: #174EA6;\n",
              "    }\n",
              "\n",
              "    [theme=dark] .colab-df-convert {\n",
              "      background-color: #3B4455;\n",
              "      fill: #D2E3FC;\n",
              "    }\n",
              "\n",
              "    [theme=dark] .colab-df-convert:hover {\n",
              "      background-color: #434B5C;\n",
              "      box-shadow: 0px 1px 3px 1px rgba(0, 0, 0, 0.15);\n",
              "      filter: drop-shadow(0px 1px 2px rgba(0, 0, 0, 0.3));\n",
              "      fill: #FFFFFF;\n",
              "    }\n",
              "  </style>\n",
              "\n",
              "      <script>\n",
              "        const buttonEl =\n",
              "          document.querySelector('#df-1ccfa47b-edbb-4786-8e65-25dfc84aae6d button.colab-df-convert');\n",
              "        buttonEl.style.display =\n",
              "          google.colab.kernel.accessAllowed ? 'block' : 'none';\n",
              "\n",
              "        async function convertToInteractive(key) {\n",
              "          const element = document.querySelector('#df-1ccfa47b-edbb-4786-8e65-25dfc84aae6d');\n",
              "          const dataTable =\n",
              "            await google.colab.kernel.invokeFunction('convertToInteractive',\n",
              "                                                     [key], {});\n",
              "          if (!dataTable) return;\n",
              "\n",
              "          const docLinkHtml = 'Like what you see? Visit the ' +\n",
              "            '<a target=\"_blank\" href=https://colab.research.google.com/notebooks/data_table.ipynb>data table notebook</a>'\n",
              "            + ' to learn more about interactive tables.';\n",
              "          element.innerHTML = '';\n",
              "          dataTable['output_type'] = 'display_data';\n",
              "          await google.colab.output.renderOutput(dataTable, element);\n",
              "          const docLink = document.createElement('div');\n",
              "          docLink.innerHTML = docLinkHtml;\n",
              "          element.appendChild(docLink);\n",
              "        }\n",
              "      </script>\n",
              "    </div>\n",
              "  </div>\n",
              "  "
            ]
          },
          "metadata": {},
          "execution_count": 26
        }
      ],
      "source": [
        "elp_df.groupby(['category']).agg({'word_prob': ['mean', 'std', 'count', 'max', 'min'], 'nword_prob': ['mean', 'std', 'count', 'max', 'min']})"
      ]
    },
    {
      "cell_type": "markdown",
      "metadata": {
        "id": "Nl8FDyjhq15W",
        "tags": []
      },
      "source": [
        "## Save Predicted Probabilities of full dataset\n"
      ]
    },
    {
      "cell_type": "code",
      "execution_count": null,
      "metadata": {
        "id": "rHZBOiHZNyjd"
      },
      "outputs": [],
      "source": [
        "elp_df_to_save = elp_df.drop(['represention', 'code'], axis=1)"
      ]
    },
    {
      "cell_type": "code",
      "execution_count": null,
      "metadata": {
        "colab": {
          "base_uri": "https://localhost:8080/",
          "height": 423
        },
        "id": "Itswdf3pq15W",
        "outputId": "81d2cbbb-c8a3-4144-f5c3-5b9e680960a0"
      },
      "outputs": [
        {
          "output_type": "execute_result",
          "data": {
            "text/plain": [
              "                string freq  label      zipf category     word_prob  \\\n",
              "17335            Ipe's    0      0  0.000000       NW  6.484266e-08   \n",
              "36309        toothcamb    0      0  0.000000       NW  4.641062e-05   \n",
              "13860           flicks  702      1  2.935287       LF  9.993498e-01   \n",
              "30576           Samoar    0      0  0.000000       NW  1.966544e-06   \n",
              "12956         lastened    0      0  0.000000       NW  1.107923e-04   \n",
              "...                ...  ...    ...       ...      ...           ...   \n",
              "35723           drased    0      0  0.000000       NW  6.662523e-05   \n",
              "12736         exorcism  238      1  3.274105       HF  9.999999e-01   \n",
              "19204             pobs    0      0  0.000000       NW  1.563252e-07   \n",
              "37749  undemonstrative    3      1  1.592864       LF  9.999452e-01   \n",
              "11248           emrets    0      0  0.000000       NW  1.155891e-04   \n",
              "\n",
              "         nword_prob  \n",
              "17335  9.999998e-01  \n",
              "36309  9.999536e-01  \n",
              "13860  6.502719e-04  \n",
              "30576  9.999980e-01  \n",
              "12956  9.998892e-01  \n",
              "...             ...  \n",
              "35723  9.999334e-01  \n",
              "12736  7.543647e-08  \n",
              "19204  9.999999e-01  \n",
              "37749  5.486609e-05  \n",
              "11248  9.998844e-01  \n",
              "\n",
              "[74317 rows x 7 columns]"
            ],
            "text/html": [
              "\n",
              "  <div id=\"df-c9f50161-cccb-48a6-b2e5-bcc0db45be5d\">\n",
              "    <div class=\"colab-df-container\">\n",
              "      <div>\n",
              "<style scoped>\n",
              "    .dataframe tbody tr th:only-of-type {\n",
              "        vertical-align: middle;\n",
              "    }\n",
              "\n",
              "    .dataframe tbody tr th {\n",
              "        vertical-align: top;\n",
              "    }\n",
              "\n",
              "    .dataframe thead th {\n",
              "        text-align: right;\n",
              "    }\n",
              "</style>\n",
              "<table border=\"1\" class=\"dataframe\">\n",
              "  <thead>\n",
              "    <tr style=\"text-align: right;\">\n",
              "      <th></th>\n",
              "      <th>string</th>\n",
              "      <th>freq</th>\n",
              "      <th>label</th>\n",
              "      <th>zipf</th>\n",
              "      <th>category</th>\n",
              "      <th>word_prob</th>\n",
              "      <th>nword_prob</th>\n",
              "    </tr>\n",
              "  </thead>\n",
              "  <tbody>\n",
              "    <tr>\n",
              "      <th>17335</th>\n",
              "      <td>Ipe's</td>\n",
              "      <td>0</td>\n",
              "      <td>0</td>\n",
              "      <td>0.000000</td>\n",
              "      <td>NW</td>\n",
              "      <td>6.484266e-08</td>\n",
              "      <td>9.999998e-01</td>\n",
              "    </tr>\n",
              "    <tr>\n",
              "      <th>36309</th>\n",
              "      <td>toothcamb</td>\n",
              "      <td>0</td>\n",
              "      <td>0</td>\n",
              "      <td>0.000000</td>\n",
              "      <td>NW</td>\n",
              "      <td>4.641062e-05</td>\n",
              "      <td>9.999536e-01</td>\n",
              "    </tr>\n",
              "    <tr>\n",
              "      <th>13860</th>\n",
              "      <td>flicks</td>\n",
              "      <td>702</td>\n",
              "      <td>1</td>\n",
              "      <td>2.935287</td>\n",
              "      <td>LF</td>\n",
              "      <td>9.993498e-01</td>\n",
              "      <td>6.502719e-04</td>\n",
              "    </tr>\n",
              "    <tr>\n",
              "      <th>30576</th>\n",
              "      <td>Samoar</td>\n",
              "      <td>0</td>\n",
              "      <td>0</td>\n",
              "      <td>0.000000</td>\n",
              "      <td>NW</td>\n",
              "      <td>1.966544e-06</td>\n",
              "      <td>9.999980e-01</td>\n",
              "    </tr>\n",
              "    <tr>\n",
              "      <th>12956</th>\n",
              "      <td>lastened</td>\n",
              "      <td>0</td>\n",
              "      <td>0</td>\n",
              "      <td>0.000000</td>\n",
              "      <td>NW</td>\n",
              "      <td>1.107923e-04</td>\n",
              "      <td>9.998892e-01</td>\n",
              "    </tr>\n",
              "    <tr>\n",
              "      <th>...</th>\n",
              "      <td>...</td>\n",
              "      <td>...</td>\n",
              "      <td>...</td>\n",
              "      <td>...</td>\n",
              "      <td>...</td>\n",
              "      <td>...</td>\n",
              "      <td>...</td>\n",
              "    </tr>\n",
              "    <tr>\n",
              "      <th>35723</th>\n",
              "      <td>drased</td>\n",
              "      <td>0</td>\n",
              "      <td>0</td>\n",
              "      <td>0.000000</td>\n",
              "      <td>NW</td>\n",
              "      <td>6.662523e-05</td>\n",
              "      <td>9.999334e-01</td>\n",
              "    </tr>\n",
              "    <tr>\n",
              "      <th>12736</th>\n",
              "      <td>exorcism</td>\n",
              "      <td>238</td>\n",
              "      <td>1</td>\n",
              "      <td>3.274105</td>\n",
              "      <td>HF</td>\n",
              "      <td>9.999999e-01</td>\n",
              "      <td>7.543647e-08</td>\n",
              "    </tr>\n",
              "    <tr>\n",
              "      <th>19204</th>\n",
              "      <td>pobs</td>\n",
              "      <td>0</td>\n",
              "      <td>0</td>\n",
              "      <td>0.000000</td>\n",
              "      <td>NW</td>\n",
              "      <td>1.563252e-07</td>\n",
              "      <td>9.999999e-01</td>\n",
              "    </tr>\n",
              "    <tr>\n",
              "      <th>37749</th>\n",
              "      <td>undemonstrative</td>\n",
              "      <td>3</td>\n",
              "      <td>1</td>\n",
              "      <td>1.592864</td>\n",
              "      <td>LF</td>\n",
              "      <td>9.999452e-01</td>\n",
              "      <td>5.486609e-05</td>\n",
              "    </tr>\n",
              "    <tr>\n",
              "      <th>11248</th>\n",
              "      <td>emrets</td>\n",
              "      <td>0</td>\n",
              "      <td>0</td>\n",
              "      <td>0.000000</td>\n",
              "      <td>NW</td>\n",
              "      <td>1.155891e-04</td>\n",
              "      <td>9.998844e-01</td>\n",
              "    </tr>\n",
              "  </tbody>\n",
              "</table>\n",
              "<p>74317 rows × 7 columns</p>\n",
              "</div>\n",
              "      <button class=\"colab-df-convert\" onclick=\"convertToInteractive('df-c9f50161-cccb-48a6-b2e5-bcc0db45be5d')\"\n",
              "              title=\"Convert this dataframe to an interactive table.\"\n",
              "              style=\"display:none;\">\n",
              "        \n",
              "  <svg xmlns=\"http://www.w3.org/2000/svg\" height=\"24px\"viewBox=\"0 0 24 24\"\n",
              "       width=\"24px\">\n",
              "    <path d=\"M0 0h24v24H0V0z\" fill=\"none\"/>\n",
              "    <path d=\"M18.56 5.44l.94 2.06.94-2.06 2.06-.94-2.06-.94-.94-2.06-.94 2.06-2.06.94zm-11 1L8.5 8.5l.94-2.06 2.06-.94-2.06-.94L8.5 2.5l-.94 2.06-2.06.94zm10 10l.94 2.06.94-2.06 2.06-.94-2.06-.94-.94-2.06-.94 2.06-2.06.94z\"/><path d=\"M17.41 7.96l-1.37-1.37c-.4-.4-.92-.59-1.43-.59-.52 0-1.04.2-1.43.59L10.3 9.45l-7.72 7.72c-.78.78-.78 2.05 0 2.83L4 21.41c.39.39.9.59 1.41.59.51 0 1.02-.2 1.41-.59l7.78-7.78 2.81-2.81c.8-.78.8-2.07 0-2.86zM5.41 20L4 18.59l7.72-7.72 1.47 1.35L5.41 20z\"/>\n",
              "  </svg>\n",
              "      </button>\n",
              "      \n",
              "  <style>\n",
              "    .colab-df-container {\n",
              "      display:flex;\n",
              "      flex-wrap:wrap;\n",
              "      gap: 12px;\n",
              "    }\n",
              "\n",
              "    .colab-df-convert {\n",
              "      background-color: #E8F0FE;\n",
              "      border: none;\n",
              "      border-radius: 50%;\n",
              "      cursor: pointer;\n",
              "      display: none;\n",
              "      fill: #1967D2;\n",
              "      height: 32px;\n",
              "      padding: 0 0 0 0;\n",
              "      width: 32px;\n",
              "    }\n",
              "\n",
              "    .colab-df-convert:hover {\n",
              "      background-color: #E2EBFA;\n",
              "      box-shadow: 0px 1px 2px rgba(60, 64, 67, 0.3), 0px 1px 3px 1px rgba(60, 64, 67, 0.15);\n",
              "      fill: #174EA6;\n",
              "    }\n",
              "\n",
              "    [theme=dark] .colab-df-convert {\n",
              "      background-color: #3B4455;\n",
              "      fill: #D2E3FC;\n",
              "    }\n",
              "\n",
              "    [theme=dark] .colab-df-convert:hover {\n",
              "      background-color: #434B5C;\n",
              "      box-shadow: 0px 1px 3px 1px rgba(0, 0, 0, 0.15);\n",
              "      filter: drop-shadow(0px 1px 2px rgba(0, 0, 0, 0.3));\n",
              "      fill: #FFFFFF;\n",
              "    }\n",
              "  </style>\n",
              "\n",
              "      <script>\n",
              "        const buttonEl =\n",
              "          document.querySelector('#df-c9f50161-cccb-48a6-b2e5-bcc0db45be5d button.colab-df-convert');\n",
              "        buttonEl.style.display =\n",
              "          google.colab.kernel.accessAllowed ? 'block' : 'none';\n",
              "\n",
              "        async function convertToInteractive(key) {\n",
              "          const element = document.querySelector('#df-c9f50161-cccb-48a6-b2e5-bcc0db45be5d');\n",
              "          const dataTable =\n",
              "            await google.colab.kernel.invokeFunction('convertToInteractive',\n",
              "                                                     [key], {});\n",
              "          if (!dataTable) return;\n",
              "\n",
              "          const docLinkHtml = 'Like what you see? Visit the ' +\n",
              "            '<a target=\"_blank\" href=https://colab.research.google.com/notebooks/data_table.ipynb>data table notebook</a>'\n",
              "            + ' to learn more about interactive tables.';\n",
              "          element.innerHTML = '';\n",
              "          dataTable['output_type'] = 'display_data';\n",
              "          await google.colab.output.renderOutput(dataTable, element);\n",
              "          const docLink = document.createElement('div');\n",
              "          docLink.innerHTML = docLinkHtml;\n",
              "          element.appendChild(docLink);\n",
              "        }\n",
              "      </script>\n",
              "    </div>\n",
              "  </div>\n",
              "  "
            ]
          },
          "metadata": {},
          "execution_count": 28
        }
      ],
      "source": [
        "elp_df_to_save"
      ]
    },
    {
      "cell_type": "code",
      "execution_count": null,
      "metadata": {
        "id": "1EfLZdnjNyg9"
      },
      "outputs": [],
      "source": [
        "elp_df_to_save.to_csv(root+\"Datasets/fastText_FC.csv\", header=0, index=False)"
      ]
    },
    {
      "cell_type": "code",
      "source": [],
      "metadata": {
        "id": "Ca690dfeJpKG"
      },
      "execution_count": null,
      "outputs": []
    }
  ],
  "metadata": {
    "colab": {
      "provenance": []
    },
    "gpuClass": "standard",
    "kernelspec": {
      "display_name": "ML",
      "language": "python",
      "name": "ml"
    },
    "language_info": {
      "codemirror_mode": {
        "name": "ipython",
        "version": 3
      },
      "file_extension": ".py",
      "mimetype": "text/x-python",
      "name": "python",
      "nbconvert_exporter": "python",
      "pygments_lexer": "ipython3",
      "version": "3.10.4"
    }
  },
  "nbformat": 4,
  "nbformat_minor": 0
}